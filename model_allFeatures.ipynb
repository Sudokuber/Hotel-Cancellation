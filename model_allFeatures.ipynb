{
 "cells": [
  {
   "cell_type": "code",
   "execution_count": 3,
   "metadata": {
    "executionInfo": {
     "elapsed": 227,
     "status": "ok",
     "timestamp": 1636533734673,
     "user": {
      "displayName": "SHANSHAN YANG",
      "photoUrl": "https://lh3.googleusercontent.com/a/default-user=s64",
      "userId": "14993090824837542937"
     },
     "user_tz": -60
    },
    "id": "nQ3P_kO_osD2"
   },
   "outputs": [],
   "source": [
    "#from google.colab import files\n",
    "#uploaded = files.upload()"
   ]
  },
  {
   "cell_type": "code",
   "execution_count": 4,
   "metadata": {
    "executionInfo": {
     "elapsed": 573,
     "status": "ok",
     "timestamp": 1636533735530,
     "user": {
      "displayName": "SHANSHAN YANG",
      "photoUrl": "https://lh3.googleusercontent.com/a/default-user=s64",
      "userId": "14993090824837542937"
     },
     "user_tz": -60
    },
    "id": "d03ad533"
   },
   "outputs": [],
   "source": [
    "import xgboost as xgb\n",
    "import numpy as np\n",
    "import pandas as pd\n",
    "import matplotlib.pyplot as plt\n",
    "%matplotlib inline\n",
    "from matplotlib.pylab import rcParams\n",
    "rcParams['figure.figsize'] = 12, 4\n",
    "import seaborn as sns\n",
    "from calendar import month_name\n",
    "from sklearn.preprocessing import MinMaxScaler\n",
    "#import warnings\n",
    "#warnings.filterwarnings('ignore')\n",
    "from sklearn.impute import KNNImputer\n",
    "from xgboost.sklearn import XGBClassifier\n",
    "from sklearn.model_selection import RandomizedSearchCV\n",
    "from sklearn.metrics import accuracy_score, roc_auc_score, classification_report"
   ]
  },
  {
   "cell_type": "markdown",
   "metadata": {
    "id": "8df88215"
   },
   "source": [
    "### Data preprocessing & EDA <br>"
   ]
  },
  {
   "cell_type": "code",
   "execution_count": 5,
   "metadata": {
    "executionInfo": {
     "elapsed": 39,
     "status": "ok",
     "timestamp": 1636533735532,
     "user": {
      "displayName": "SHANSHAN YANG",
      "photoUrl": "https://lh3.googleusercontent.com/a/default-user=s64",
      "userId": "14993090824837542937"
     },
     "user_tz": -60
    },
    "id": "1e36ca61"
   },
   "outputs": [],
   "source": [
    "# load data\n",
    "hotel3 = pd.read_csv('hotel3.csv')\n",
    "pd.set_option('display.max_columns', None)"
   ]
  },
  {
   "cell_type": "code",
   "execution_count": 108,
   "metadata": {
    "executionInfo": {
     "elapsed": 209,
     "status": "ok",
     "timestamp": 1636539179930,
     "user": {
      "displayName": "SHANSHAN YANG",
      "photoUrl": "https://lh3.googleusercontent.com/a/default-user=s64",
      "userId": "14993090824837542937"
     },
     "user_tz": -60
    },
    "id": "ea754759"
   },
   "outputs": [],
   "source": [
    "# split data\n",
    "X, y = hotel3.iloc[:,1:], hotel3.iloc[:,0]\n",
    "total_data = len(X.index)\n",
    "split = round(total_data*0.8)\n",
    "X_train = X.iloc[:split, :]\n",
    "X_test = X.iloc[split:, :]\n",
    "y_train = y.iloc[:split]\n",
    "y_test = y.iloc[split:]"
   ]
  },
  {
   "cell_type": "code",
   "execution_count": 100,
   "metadata": {
    "executionInfo": {
     "elapsed": 1563,
     "status": "ok",
     "timestamp": 1636539081590,
     "user": {
      "displayName": "SHANSHAN YANG",
      "photoUrl": "https://lh3.googleusercontent.com/a/default-user=s64",
      "userId": "14993090824837542937"
     },
     "user_tz": -60
    },
    "id": "db62bd91"
   },
   "outputs": [],
   "source": [
    "# Imputation (feature = agent)\n",
    "#https://machinelearningmastery.com/knn-imputation-for-missing-values-in-machine-learning/\n",
    "imputer = KNNImputer()\n",
    "imputer.fit(X_train)\n",
    "X_trans = imputer.transform(X_train)"
   ]
  },
  {
   "cell_type": "code",
   "execution_count": 84,
   "metadata": {
    "colab": {
     "base_uri": "https://localhost:8080/"
    },
    "executionInfo": {
     "elapsed": 1239,
     "status": "ok",
     "timestamp": 1636538840719,
     "user": {
      "displayName": "SHANSHAN YANG",
      "photoUrl": "https://lh3.googleusercontent.com/a/default-user=s64",
      "userId": "14993090824837542937"
     },
     "user_tz": -60
    },
    "id": "af69f53c",
    "outputId": "ace040a3-2815-4736-b146-ada8c6b77d39"
   },
   "outputs": [
    {
     "name": "stdout",
     "output_type": "stream",
     "text": [
      "missing: 0\n"
     ]
    }
   ],
   "source": [
    "print('missing: %d' % sum(np.isnan(X_trans).flatten()))"
   ]
  },
  {
   "cell_type": "code",
   "execution_count": 101,
   "metadata": {
    "executionInfo": {
     "elapsed": 260,
     "status": "ok",
     "timestamp": 1636539083622,
     "user": {
      "displayName": "SHANSHAN YANG",
      "photoUrl": "https://lh3.googleusercontent.com/a/default-user=s64",
      "userId": "14993090824837542937"
     },
     "user_tz": -60
    },
    "id": "8a11881a"
   },
   "outputs": [],
   "source": [
    "# Data Normalization\n",
    "# https://machinelearningmastery.com/data-preparation-without-data-leakage/\n",
    "scaler = MinMaxScaler()\n",
    "scaler.fit(X_train)\n",
    "X_train = scaler.transform(X_trans)\n"
   ]
  },
  {
   "cell_type": "code",
   "execution_count": 42,
   "metadata": {
    "executionInfo": {
     "elapsed": 23,
     "status": "ok",
     "timestamp": 1636533740715,
     "user": {
      "displayName": "SHANSHAN YANG",
      "photoUrl": "https://lh3.googleusercontent.com/a/default-user=s64",
      "userId": "14993090824837542937"
     },
     "user_tz": -60
    },
    "id": "f96f9911"
   },
   "outputs": [],
   "source": [
    "#distance = ['lead_time', 'adults', 'children', 'babies', 'total_num_people', 'is_repeated_guest', 'previous_cancellations', 'previous_bookings_not_canceled', 'booking_changes', 'adr']"
   ]
  },
  {
   "cell_type": "code",
   "execution_count": 86,
   "metadata": {
    "executionInfo": {
     "elapsed": 218,
     "status": "ok",
     "timestamp": 1636538857810,
     "user": {
      "displayName": "SHANSHAN YANG",
      "photoUrl": "https://lh3.googleusercontent.com/a/default-user=s64",
      "userId": "14993090824837542937"
     },
     "user_tz": -60
    },
    "id": "ca0cf85d"
   },
   "outputs": [],
   "source": [
    "dtrain = xgb.DMatrix(data=X_train, label=y_train, feature_names=X.columns.tolist())"
   ]
  },
  {
   "cell_type": "markdown",
   "metadata": {
    "id": "b53d1443"
   },
   "source": [
    "### Training "
   ]
  },
  {
   "cell_type": "code",
   "execution_count": 44,
   "metadata": {
    "executionInfo": {
     "elapsed": 259,
     "status": "ok",
     "timestamp": 1636533785767,
     "user": {
      "displayName": "SHANSHAN YANG",
      "photoUrl": "https://lh3.googleusercontent.com/a/default-user=s64",
      "userId": "14993090824837542937"
     },
     "user_tz": -60
    },
    "id": "c75ce202"
   },
   "outputs": [],
   "source": [
    "# Hyperparameters\n",
    "lr = [0.001, 0.1]\n",
    "depth = [i for i in np.arange(15, 21, 5)]\n",
    "child_weight = [i for i in range(0, 2)]\n",
    "sample_ratio = [i/10 for i in range(4, 8)]\n",
    "tree_ratio = [i/10 for i in range(4, 8)]"
   ]
  },
  {
   "cell_type": "code",
   "execution_count": null,
   "metadata": {
    "colab": {
     "base_uri": "https://localhost:8080/"
    },
    "executionInfo": {
     "elapsed": 3213066,
     "status": "ok",
     "timestamp": 1636537002258,
     "user": {
      "displayName": "SHANSHAN YANG",
      "photoUrl": "https://lh3.googleusercontent.com/a/default-user=s64",
      "userId": "14993090824837542937"
     },
     "user_tz": -60
    },
    "id": "b5eef05d",
    "outputId": "1adfd1ed-e72b-4357-ee6a-7df77db2b79b",
    "scrolled": false
   },
   "outputs": [],
   "source": [
    "results = []\n",
    "for l in lr:\n",
    "    for d in depth:\n",
    "        for w in child_weight:\n",
    "            for sample in sample_ratio:\n",
    "                for trees in tree_ratio:\n",
    "                    # hyperparameters\n",
    "                    params = {'eta':l, \n",
    "                              'max_depth': d, \n",
    "                              'min_child_weight': w,\n",
    "                              'subsample': sample,\n",
    "                              'colsample_bytree': trees,\n",
    "                              'scale_pos_weight': 2,\n",
    "                              'tree_method': 'gpu_hist'}\n",
    "                    print(params)\n",
    "                    # cross validation\n",
    "                    cv_hist = xgb.cv(params, \n",
    "                                    dtrain, \n",
    "                                    num_boost_round=1000, \n",
    "                                    nfold=10, \n",
    "                                    stratified=True, \n",
    "                                    metrics=['auc','error'], \n",
    "                                    early_stopping_rounds=5, \n",
    "                                    verbose_eval=5, \n",
    "                                    seed=42)\n",
    "                    # average result \n",
    "                    train_error = cv_hist.iloc[-1,2]\n",
    "                    train_auc = cv_hist.iloc[-1,0]\n",
    "                    test_error = cv_hist.iloc[-1,-2]\n",
    "                    test_auc = cv_hist.iloc[-1,4]\n",
    "                    results.append([[l, d, w, sample, trees], [train_error,test_error, train_auc, test_auc]])"
   ]
  },
  {
   "cell_type": "code",
   "execution_count": null,
   "metadata": {
    "colab": {
     "base_uri": "https://localhost:8080/"
    },
    "executionInfo": {
     "elapsed": 275,
     "status": "ok",
     "timestamp": 1636537368676,
     "user": {
      "displayName": "SHANSHAN YANG",
      "photoUrl": "https://lh3.googleusercontent.com/a/default-user=s64",
      "userId": "14993090824837542937"
     },
     "user_tz": -60
    },
    "id": "sFJPxoyCzgu2",
    "outputId": "bbb8f822-772a-457e-916d-4dddf0ec863e",
    "scrolled": true
   },
   "outputs": [],
   "source": [
    "result_np = np.array(results)\n",
    "result = pd.DataFrame(result_np, columns=['parameters', 'validation results'])\n",
    "result[['eta', 'max_depth', 'min_child_weight', 'subsample', 'colsample_bytree']] = result['parameters'].apply(pd.Series)\n",
    "result[['train_error', 'test_error', 'train_auc', 'test_auc']] = result['validation results'].apply(pd.Series)\n",
    "result.drop(columns=['parameters', 'validation results'], inplace=True)"
   ]
  },
  {
   "cell_type": "code",
   "execution_count": 48,
   "metadata": {
    "colab": {
     "base_uri": "https://localhost:8080/"
    },
    "executionInfo": {
     "elapsed": 227,
     "status": "ok",
     "timestamp": 1636537384757,
     "user": {
      "displayName": "SHANSHAN YANG",
      "photoUrl": "https://lh3.googleusercontent.com/a/default-user=s64",
      "userId": "14993090824837542937"
     },
     "user_tz": -60
    },
    "id": "PyzgBjXH4cv6",
    "outputId": "ea8fd023-8b33-4a91-aeaa-0fc36bf84ebb"
   },
   "outputs": [
    {
     "name": "stdout",
     "output_type": "stream",
     "text": [
      "[0.1, 15.0, 1.0, 0.5, 0.6]\n",
      "[0.012850400000000001, 0.0494112, 0.9996074, 0.986209]\n"
     ]
    }
   ],
   "source": [
    "best_params = result.sort_values(['test_error']).iloc[0,:5]\n",
    "print(best_params.to_list())\n",
    "best_result = result.sort_values(['test_error']).iloc[0,5:]\n",
    "print(best_result.to_list())"
   ]
  },
  {
   "cell_type": "code",
   "execution_count": null,
   "metadata": {
    "colab": {
     "base_uri": "https://localhost:8080/"
    },
    "executionInfo": {
     "elapsed": 4637,
     "status": "ok",
     "timestamp": 1636539171270,
     "user": {
      "displayName": "SHANSHAN YANG",
      "photoUrl": "https://lh3.googleusercontent.com/a/default-user=s64",
      "userId": "14993090824837542937"
     },
     "user_tz": -60
    },
    "id": "2be32441",
    "outputId": "2cea7cd4-a438-4e84-c6d1-08039425f0a8",
    "scrolled": true
   },
   "outputs": [],
   "source": [
    "# {'eta': 0.1, 'max_depth': 15, 'min_child_weight': 1, 'subsample': 0.5, 'colsample_bytree': 0.6} reaches lowest test-error \n",
    "# gamma [0,1,3,5] has no effect on the model performance, therefore set as default\n",
    "\n",
    "# build final model\n",
    "# best_params\n",
    "params = {'eta':best_params[0], \n",
    "          'max_depth': int(best_params[1]), \n",
    "          'min_child_weight': best_params[2],\n",
    "          'subsample': best_params[3],\n",
    "          'colsample_bytree': best_params[4],\n",
    "          'scale_pos_weight': 2,\n",
    "          'tree_method': 'gpu_hist',\n",
    "          'eval_metric': ['auc', 'error'],\n",
    "          'seed':42}\n",
    "print(params)\n",
    "\n",
    "epochs = 100\n",
    "\n",
    "bst = xgb.train(params, \n",
    "                dtrain, \n",
    "                epochs, \n",
    "                [(dtrain, 'train')],\n",
    "                early_stopping_rounds=5, \n",
    "                verbose_eval=2)"
   ]
  },
  {
   "cell_type": "code",
   "execution_count": 109,
   "metadata": {
    "executionInfo": {
     "elapsed": 822,
     "status": "ok",
     "timestamp": 1636539221394,
     "user": {
      "displayName": "SHANSHAN YANG",
      "photoUrl": "https://lh3.googleusercontent.com/a/default-user=s64",
      "userId": "14993090824837542937"
     },
     "user_tz": -60
    },
    "id": "3a97c825"
   },
   "outputs": [],
   "source": [
    "X_test_trans = imputer.transform(X_test)\n",
    "X_test = scaler.transform(X_test_trans)\n",
    "dtest = xgb.DMatrix(data=X_test, label=y_test, feature_names=X.columns.tolist())"
   ]
  },
  {
   "cell_type": "code",
   "execution_count": 110,
   "metadata": {
    "executionInfo": {
     "elapsed": 335,
     "status": "ok",
     "timestamp": 1636539222876,
     "user": {
      "displayName": "SHANSHAN YANG",
      "photoUrl": "https://lh3.googleusercontent.com/a/default-user=s64",
      "userId": "14993090824837542937"
     },
     "user_tz": -60
    },
    "id": "9ba1e092"
   },
   "outputs": [],
   "source": [
    "y_train_preds = np.round(bst.predict(dtrain, ntree_limit=bst.best_ntree_limit))\n",
    "y_preds = np.round(bst.predict(dtest, ntree_limit=bst.best_ntree_limit))"
   ]
  },
  {
   "cell_type": "code",
   "execution_count": 111,
   "metadata": {
    "colab": {
     "base_uri": "https://localhost:8080/"
    },
    "executionInfo": {
     "elapsed": 243,
     "status": "ok",
     "timestamp": 1636539225106,
     "user": {
      "displayName": "SHANSHAN YANG",
      "photoUrl": "https://lh3.googleusercontent.com/a/default-user=s64",
      "userId": "14993090824837542937"
     },
     "user_tz": -60
    },
    "id": "d47d8ec0",
    "outputId": "44beb4f7-ead8-4631-d72e-eee9bba990a2"
   },
   "outputs": [
    {
     "name": "stdout",
     "output_type": "stream",
     "text": [
      "              precision    recall  f1-score   support\n",
      "\n",
      "not_canceled       1.00      0.99      0.99      2984\n",
      "    canceled       0.99      1.00      1.00      6164\n",
      "\n",
      "    accuracy                           1.00      9148\n",
      "   macro avg       1.00      0.99      1.00      9148\n",
      "weighted avg       1.00      1.00      1.00      9148\n",
      "\n",
      "              precision    recall  f1-score   support\n",
      "\n",
      "not_canceled       0.82      0.82      0.82       682\n",
      "    canceled       0.92      0.92      0.92      1605\n",
      "\n",
      "    accuracy                           0.89      2287\n",
      "   macro avg       0.87      0.87      0.87      2287\n",
      "weighted avg       0.89      0.89      0.89      2287\n",
      "\n"
     ]
    }
   ],
   "source": [
    "print(classification_report(y_train,y_train_preds,target_names=['not_canceled', 'canceled']))\n",
    "print(classification_report(y_test,y_preds,target_names=['not_canceled', 'canceled']))"
   ]
  },
  {
   "cell_type": "code",
   "execution_count": 112,
   "metadata": {
    "colab": {
     "base_uri": "https://localhost:8080/"
    },
    "executionInfo": {
     "elapsed": 219,
     "status": "ok",
     "timestamp": 1636539366031,
     "user": {
      "displayName": "SHANSHAN YANG",
      "photoUrl": "https://lh3.googleusercontent.com/a/default-user=s64",
      "userId": "14993090824837542937"
     },
     "user_tz": -60
    },
    "id": "fc86c4dc",
    "outputId": "5a447027-50cf-4bc2-d694-7d6024ab405e"
   },
   "outputs": [
    {
     "data": {
      "text/plain": [
       "0.8707731520815633"
      ]
     },
     "execution_count": 112,
     "metadata": {},
     "output_type": "execute_result"
    }
   ],
   "source": [
    "roc_auc_score(y_test, y_preds)"
   ]
  }
 ],
 "metadata": {
  "accelerator": "GPU",
  "colab": {
   "collapsed_sections": [],
   "machine_shape": "hm",
   "name": "model_tryout.ipynb",
   "provenance": []
  },
  "kernelspec": {
   "display_name": "Python 3",
   "language": "python",
   "name": "python3"
  },
  "language_info": {
   "codemirror_mode": {
    "name": "ipython",
    "version": 3
   },
   "file_extension": ".py",
   "mimetype": "text/x-python",
   "name": "python",
   "nbconvert_exporter": "python",
   "pygments_lexer": "ipython3",
   "version": "3.7.7"
  }
 },
 "nbformat": 4,
 "nbformat_minor": 5
}
