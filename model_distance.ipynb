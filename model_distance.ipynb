{
 "cells": [
  {
   "cell_type": "code",
   "execution_count": 1,
   "metadata": {
    "executionInfo": {
     "elapsed": 932,
     "status": "ok",
     "timestamp": 1636983206516,
     "user": {
      "displayName": "SHANSHAN YANG",
      "photoUrl": "https://lh3.googleusercontent.com/a/default-user=s64",
      "userId": "14993090824837542937"
     },
     "user_tz": -60
    },
    "id": "d03ad533"
   },
   "outputs": [],
   "source": [
    "import xgboost as xgb\n",
    "import numpy as np\n",
    "import pandas as pd\n",
    "import matplotlib.pyplot as plt\n",
    "%matplotlib inline\n",
    "from matplotlib.pylab import rcParams\n",
    "rcParams['figure.figsize'] = 12, 4\n",
    "import seaborn as sns\n",
    "from calendar import month_name\n",
    "from sklearn.preprocessing import MinMaxScaler\n",
    "#import warnings\n",
    "#warnings.filterwarnings('ignore')\n",
    "from sklearn.impute import KNNImputer\n",
    "from xgboost.sklearn import XGBClassifier\n",
    "from sklearn.model_selection import RandomizedSearchCV\n",
    "from sklearn.metrics import accuracy_score, roc_auc_score, classification_report"
   ]
  },
  {
   "cell_type": "code",
   "execution_count": null,
   "metadata": {
    "id": "wjcg6rE4lP5L"
   },
   "outputs": [],
   "source": [
    "#from google.colab import drive\n",
    "#drive.mount('/content/drive')"
   ]
  },
  {
   "cell_type": "markdown",
   "metadata": {
    "id": "GNDuje5QgVvO"
   },
   "source": [
    "### Distances\n",
    "*   lead time ['lead_time']\n",
    "*   booking frequency ['is_repeated_guest', 'previous_cancellations','previous_bookings_not_canceled', 'booking_changes']\n",
    "*   travel companions ['adults', 'children', 'babies', 'total_num_people']\n",
    "*   product value / cancellation fees ['adr', 'market_Complementary', 'deposit_No Deposity', 'deposit_Non Refund', 'deposit_refundable']"
   ]
  },
  {
   "cell_type": "code",
   "execution_count": null,
   "metadata": {
    "id": "kuwa-yn_lxWb"
   },
   "outputs": [],
   "source": [
    "hotel3 = pd.read_csv('drive/MyDrive/hotel3.csv')"
   ]
  },
  {
   "cell_type": "code",
   "execution_count": null,
   "metadata": {
    "id": "SHqfFID6g3__"
   },
   "outputs": [],
   "source": [
    "dist = hotel3[['is_canceled', 'lead_time', 'is_repeated_guest', 'previous_cancellations', 'previous_bookings_not_canceled', 'booking_changes', 'adults', 'children', 'babies', 'total_num_people', 'adr', 'market_Complementary', 'deposit_No Deposit', 'deposit_Non Refund', 'deposit_Refundable']]"
   ]
  },
  {
   "cell_type": "code",
   "execution_count": null,
   "metadata": {
    "id": "ea754759"
   },
   "outputs": [],
   "source": [
    "# split data\n",
    "X, y = dist.iloc[:,1:], dist.iloc[:,0]\n",
    "total_data = len(X.index)\n",
    "split = round(total_data*0.8)\n",
    "X_train = X.iloc[:split, :]\n",
    "X_test = X.iloc[split:, :]\n",
    "y_train = y.iloc[:split]\n",
    "y_test = y.iloc[split:]"
   ]
  },
  {
   "cell_type": "code",
   "execution_count": null,
   "metadata": {
    "id": "db62bd91"
   },
   "outputs": [],
   "source": [
    "# Imputation (feature = agent)\n",
    "#https://machinelearningmastery.com/knn-imputation-for-missing-values-in-machine-learning/\n",
    "imputer = KNNImputer()\n",
    "imputer.fit(X_train)\n",
    "X_trans = imputer.transform(X_train)"
   ]
  },
  {
   "cell_type": "code",
   "execution_count": null,
   "metadata": {
    "colab": {
     "base_uri": "https://localhost:8080/"
    },
    "executionInfo": {
     "elapsed": 2942,
     "status": "ok",
     "timestamp": 1636553944161,
     "user": {
      "displayName": "SHANSHAN YANG",
      "photoUrl": "https://lh3.googleusercontent.com/a/default-user=s64",
      "userId": "14993090824837542937"
     },
     "user_tz": -60
    },
    "id": "af69f53c",
    "outputId": "99525112-7e21-4ea8-e0d2-e69e608e1655"
   },
   "outputs": [
    {
     "name": "stdout",
     "output_type": "stream",
     "text": [
      "missing: 0\n"
     ]
    }
   ],
   "source": [
    "print('missing: %d' % sum(np.isnan(X_trans).flatten()))"
   ]
  },
  {
   "cell_type": "code",
   "execution_count": null,
   "metadata": {
    "id": "8a11881a"
   },
   "outputs": [],
   "source": [
    "# Data Normalization\n",
    "# https://machinelearningmastery.com/data-preparation-without-data-leakage/\n",
    "scaler = MinMaxScaler()\n",
    "scaler.fit(X_trans)\n",
    "X_train = scaler.transform(X_trans)\n"
   ]
  },
  {
   "cell_type": "code",
   "execution_count": null,
   "metadata": {
    "id": "ca0cf85d"
   },
   "outputs": [],
   "source": [
    "dtrain = xgb.DMatrix(data=X_train, label=y_train, feature_names=X.columns.tolist())"
   ]
  },
  {
   "cell_type": "markdown",
   "metadata": {
    "id": "b53d1443"
   },
   "source": [
    "### Training "
   ]
  },
  {
   "cell_type": "code",
   "execution_count": null,
   "metadata": {
    "id": "c75ce202"
   },
   "outputs": [],
   "source": [
    "# Hyperparameters\n",
    "lr = [0.001, 0.1]\n",
    "depth = [20, 25]\n",
    "child_weight = [0, 1]\n",
    "sample_ratio = 0.4\n",
    "tree_ratio = [0.8, 0.9, 1]"
   ]
  },
  {
   "cell_type": "code",
   "execution_count": null,
   "metadata": {
    "colab": {
     "base_uri": "https://localhost:8080/"
    },
    "executionInfo": {
     "elapsed": 4149781,
     "status": "ok",
     "timestamp": 1636558105297,
     "user": {
      "displayName": "SHANSHAN YANG",
      "photoUrl": "https://lh3.googleusercontent.com/a/default-user=s64",
      "userId": "14993090824837542937"
     },
     "user_tz": -60
    },
    "id": "b5eef05d",
    "outputId": "1624b127-4aad-4fa0-c893-3827b3f5dc60",
    "scrolled": false
   },
   "outputs": [],
   "source": [
    "results = []\n",
    "for l in lr:\n",
    "    for d in depth:\n",
    "        for w in child_weight:\n",
    "            for trees in tree_ratio:\n",
    "                # hyperparameters\n",
    "                params = {'eta':l, \n",
    "                          'max_depth': d, \n",
    "                          'min_child_weight': w,\n",
    "                          'subsample': sample_ratio,\n",
    "                          'colsample_bytree': trees,\n",
    "                          'scale_pos_weight': 2,\n",
    "                          'tree_method': 'gpu_hist'}\n",
    "                print(params)\n",
    "                # cross validation\n",
    "                cv_hist = xgb.cv(params, \n",
    "                                dtrain, \n",
    "                                num_boost_round=1000, \n",
    "                                nfold=10, \n",
    "                                stratified=True, \n",
    "                                metrics=['auc','error'], \n",
    "                                early_stopping_rounds=5, \n",
    "                                verbose_eval=5, \n",
    "                                seed=42)\n",
    "                # average result \n",
    "                train_error = cv_hist.iloc[-1,2]\n",
    "                train_auc = cv_hist.iloc[-1,0]\n",
    "                test_error = cv_hist.iloc[-1,-2]\n",
    "                test_auc = cv_hist.iloc[-1,4]\n",
    "                results.append([[l, d, w, sample_ratio, trees], [train_error,test_error, train_auc, test_auc]])"
   ]
  },
  {
   "cell_type": "code",
   "execution_count": null,
   "metadata": {
    "colab": {
     "base_uri": "https://localhost:8080/"
    },
    "executionInfo": {
     "elapsed": 294,
     "status": "ok",
     "timestamp": 1636558117726,
     "user": {
      "displayName": "SHANSHAN YANG",
      "photoUrl": "https://lh3.googleusercontent.com/a/default-user=s64",
      "userId": "14993090824837542937"
     },
     "user_tz": -60
    },
    "id": "sFJPxoyCzgu2",
    "outputId": "a043025a-837a-4449-fa28-2aeb6e3588cc"
   },
   "outputs": [],
   "source": [
    "result_np = np.array(results)\n",
    "result = pd.DataFrame(result_np, columns=['parameters', 'validation results'])\n",
    "result[['eta', 'max_depth', 'min_child_weight', 'subsample', 'colsample_bytree']] = result['parameters'].apply(pd.Series)\n",
    "result[['train_error', 'test_error', 'train_auc', 'test_auc']] = result['validation results'].apply(pd.Series)\n",
    "result.drop(columns=['parameters', 'validation results'], inplace=True)"
   ]
  },
  {
   "cell_type": "code",
   "execution_count": null,
   "metadata": {
    "colab": {
     "base_uri": "https://localhost:8080/"
    },
    "executionInfo": {
     "elapsed": 746,
     "status": "ok",
     "timestamp": 1636558127198,
     "user": {
      "displayName": "SHANSHAN YANG",
      "photoUrl": "https://lh3.googleusercontent.com/a/default-user=s64",
      "userId": "14993090824837542937"
     },
     "user_tz": -60
    },
    "id": "PyzgBjXH4cv6",
    "outputId": "5801416a-dd1d-4a33-c337-5691f9d6b142"
   },
   "outputs": [
    {
     "name": "stdout",
     "output_type": "stream",
     "text": [
      "[0.1, 25.0, 0.0, 0.4, 0.9]\n",
      "[0.09111159999999999, 0.2443686, 0.9733487999999999, 0.8232407]\n"
     ]
    }
   ],
   "source": [
    "best_params = result.sort_values(['test_error']).iloc[0,:5]\n",
    "print(best_params.to_list())\n",
    "best_result = result.sort_values(['test_error']).iloc[0,5:]\n",
    "print(best_result.to_list())"
   ]
  },
  {
   "cell_type": "code",
   "execution_count": null,
   "metadata": {
    "id": "cb96d345"
   },
   "outputs": [],
   "source": []
  },
  {
   "cell_type": "code",
   "execution_count": null,
   "metadata": {
    "colab": {
     "base_uri": "https://localhost:8080/"
    },
    "executionInfo": {
     "elapsed": 70622,
     "status": "ok",
     "timestamp": 1636558262479,
     "user": {
      "displayName": "SHANSHAN YANG",
      "photoUrl": "https://lh3.googleusercontent.com/a/default-user=s64",
      "userId": "14993090824837542937"
     },
     "user_tz": -60
    },
    "id": "2be32441",
    "outputId": "0a37dcdf-4a96-4b8f-8272-51c46d798b78"
   },
   "outputs": [],
   "source": [
    "# {'eta': 0.1, 'max_depth': 25, 'min_child_weight': 0, 'subsample': 0.4, 'colsample_bytree': 0.9} reaches lowest test-error \n",
    "# gamma [0,1,3,5] has no effect on the model performance, therefore set as default\n",
    "\n",
    "# build final model\n",
    "# best_params\n",
    "params = {'eta':best_params[0], \n",
    "          'max_depth': int(best_params[1]), \n",
    "          'min_child_weight': best_params[2],\n",
    "          'subsample': best_params[3],\n",
    "          'colsample_bytree': best_params[4],\n",
    "          'scale_pos_weight': 2,\n",
    "          'tree_method': 'gpu_hist',\n",
    "          'eval_metric': ['auc', 'error'],\n",
    "          'seed':42}\n",
    "print(params)\n",
    "\n",
    "epochs = 100\n",
    "\n",
    "bst = xgb.train(params, \n",
    "                dtrain, \n",
    "                epochs, \n",
    "                [(dtrain, 'train')],\n",
    "                early_stopping_rounds=5, \n",
    "                verbose_eval=2)"
   ]
  },
  {
   "cell_type": "code",
   "execution_count": null,
   "metadata": {
    "id": "3a97c825"
   },
   "outputs": [],
   "source": [
    "X_test_trans = imputer.transform(X_test)\n",
    "X_test = scaler.transform(X_test_trans)\n",
    "dtest = xgb.DMatrix(data=X_test, label=y_test, feature_names=X.columns.tolist())"
   ]
  },
  {
   "cell_type": "code",
   "execution_count": null,
   "metadata": {
    "id": "9ba1e092"
   },
   "outputs": [],
   "source": [
    "y_train_preds = np.round(bst.predict(dtrain, ntree_limit=bst.best_ntree_limit))\n",
    "y_preds = np.round(bst.predict(dtest, ntree_limit=bst.best_ntree_limit))"
   ]
  },
  {
   "cell_type": "code",
   "execution_count": null,
   "metadata": {
    "colab": {
     "base_uri": "https://localhost:8080/"
    },
    "executionInfo": {
     "elapsed": 697,
     "status": "ok",
     "timestamp": 1636558280092,
     "user": {
      "displayName": "SHANSHAN YANG",
      "photoUrl": "https://lh3.googleusercontent.com/a/default-user=s64",
      "userId": "14993090824837542937"
     },
     "user_tz": -60
    },
    "id": "d47d8ec0",
    "outputId": "cd102bfa-9cdc-4940-ce05-a9319fe6427e"
   },
   "outputs": [
    {
     "name": "stdout",
     "output_type": "stream",
     "text": [
      "              precision    recall  f1-score   support\n",
      "\n",
      "not_canceled       0.95      0.91      0.93     59625\n",
      "    canceled       0.86      0.92      0.89     35866\n",
      "\n",
      "    accuracy                           0.91     95491\n",
      "   macro avg       0.90      0.91      0.91     95491\n",
      "weighted avg       0.91      0.91      0.91     95491\n",
      "\n",
      "              precision    recall  f1-score   support\n",
      "\n",
      "not_canceled       0.82      0.90      0.86     15525\n",
      "    canceled       0.77      0.63      0.70      8348\n",
      "\n",
      "    accuracy                           0.81     23873\n",
      "   macro avg       0.80      0.77      0.78     23873\n",
      "weighted avg       0.80      0.81      0.80     23873\n",
      "\n"
     ]
    }
   ],
   "source": [
    "print(classification_report(y_train,y_train_preds,target_names=['not_canceled', 'canceled']))\n",
    "print(classification_report(y_test,y_preds,target_names=['not_canceled', 'canceled']))"
   ]
  },
  {
   "cell_type": "code",
   "execution_count": null,
   "metadata": {
    "colab": {
     "base_uri": "https://localhost:8080/"
    },
    "executionInfo": {
     "elapsed": 239,
     "status": "ok",
     "timestamp": 1636558291755,
     "user": {
      "displayName": "SHANSHAN YANG",
      "photoUrl": "https://lh3.googleusercontent.com/a/default-user=s64",
      "userId": "14993090824837542937"
     },
     "user_tz": -60
    },
    "id": "fc86c4dc",
    "outputId": "1b989ea3-b2a2-41a5-f72a-56c88e59b0af"
   },
   "outputs": [
    {
     "data": {
      "text/plain": [
       "0.7664635343245164"
      ]
     },
     "execution_count": 19,
     "metadata": {},
     "output_type": "execute_result"
    }
   ],
   "source": [
    "roc_auc_score(y_test, y_preds)"
   ]
  }
 ],
 "metadata": {
  "accelerator": "GPU",
  "colab": {
   "collapsed_sections": [],
   "machine_shape": "hm",
   "name": "model_distance.ipynb",
   "provenance": [
    {
     "file_id": "1KmSxX2sldBlE729uG74s9758u6aQjFHs",
     "timestamp": 1636539655617
    }
   ]
  },
  "kernelspec": {
   "display_name": "Python 3",
   "language": "python",
   "name": "python3"
  },
  "language_info": {
   "codemirror_mode": {
    "name": "ipython",
    "version": 3
   },
   "file_extension": ".py",
   "mimetype": "text/x-python",
   "name": "python",
   "nbconvert_exporter": "python",
   "pygments_lexer": "ipython3",
   "version": "3.7.7"
  }
 },
 "nbformat": 4,
 "nbformat_minor": 5
}
