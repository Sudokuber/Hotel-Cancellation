{
 "cells": [
  {
   "cell_type": "code",
   "execution_count": null,
   "metadata": {
    "id": "d03ad533"
   },
   "outputs": [],
   "source": [
    "import xgboost as xgb\n",
    "import numpy as np\n",
    "import pandas as pd\n",
    "import matplotlib.pyplot as plt\n",
    "%matplotlib inline\n",
    "from matplotlib.pylab import rcParams\n",
    "rcParams['figure.figsize'] = 12, 4\n",
    "import seaborn as sns\n",
    "from calendar import month_name\n",
    "from sklearn.preprocessing import MinMaxScaler\n",
    "#import warnings\n",
    "#warnings.filterwarnings('ignore')\n",
    "from sklearn.impute import KNNImputer\n",
    "from xgboost.sklearn import XGBClassifier\n",
    "from sklearn.model_selection import RandomizedSearchCV\n",
    "from sklearn.metrics import accuracy_score, roc_auc_score, classification_report"
   ]
  },
  {
   "cell_type": "code",
   "execution_count": null,
   "metadata": {
    "id": "wjcg6rE4lP5L"
   },
   "outputs": [],
   "source": [
    "#from google.colab import drive\n",
    "#drive.mount('/content/drive')"
   ]
  },
  {
   "cell_type": "markdown",
   "metadata": {
    "id": "GNDuje5QgVvO"
   },
   "source": [
    "### Distances\n",
    "*   lead time ['lead_time']\n",
    "*   booking frequency ['is_repeated_guest', 'previous_cancellations','previous_bookings_not_canceled', 'booking_changes']\n",
    "*   travel companions ['adults', 'children', 'babies', 'total_num_people']\n",
    "*   product value / cancellation fees ['adr', 'market_Complementary', 'deposit_No Deposity', 'deposit_Non Refund', 'deposit_refundable']"
   ]
  },
  {
   "cell_type": "code",
   "execution_count": null,
   "metadata": {
    "id": "kuwa-yn_lxWb"
   },
   "outputs": [],
   "source": [
    "#hotel3 = pd.read_csv('drive/MyDrive/hotel3.csv')\n",
    "hotel3 = pd.read_csv('hotel3.csv')"
   ]
  },
  {
   "cell_type": "code",
   "execution_count": null,
   "metadata": {
    "id": "SHqfFID6g3__"
   },
   "outputs": [],
   "source": [
    "no_dist = hotel3.drop(columns = ['Unnamed: 0', 'lead_time', 'is_repeated_guest', 'previous_cancellations', 'previous_bookings_not_canceled', 'booking_changes', 'adults', 'children', 'babies', 'total_num_people', 'adr', 'market_Complementary', 'deposit_No Deposit', 'deposit_Non Refund', 'deposit_Refundable'])"
   ]
  },
  {
   "cell_type": "code",
   "execution_count": null,
   "metadata": {
    "colab": {
     "base_uri": "https://localhost:8080/",
     "height": 274
    },
    "executionInfo": {
     "elapsed": 352,
     "status": "ok",
     "timestamp": 1636561575644,
     "user": {
      "displayName": "SHANSHAN YANG",
      "photoUrl": "https://lh3.googleusercontent.com/a/default-user=s64",
      "userId": "14993090824837542937"
     },
     "user_tz": -60
    },
    "id": "9onEhX_-qJhW",
    "outputId": "ee7dfd76-e91e-4169-dd68-b9a97aad10bd"
   },
   "outputs": [
    {
     "data": {
      "text/html": [
       "<div>\n",
       "<style scoped>\n",
       "    .dataframe tbody tr th:only-of-type {\n",
       "        vertical-align: middle;\n",
       "    }\n",
       "\n",
       "    .dataframe tbody tr th {\n",
       "        vertical-align: top;\n",
       "    }\n",
       "\n",
       "    .dataframe thead th {\n",
       "        text-align: right;\n",
       "    }\n",
       "</style>\n",
       "<table border=\"1\" class=\"dataframe\">\n",
       "  <thead>\n",
       "    <tr style=\"text-align: right;\">\n",
       "      <th></th>\n",
       "      <th>is_canceled</th>\n",
       "      <th>arrival_date_year</th>\n",
       "      <th>arrival_date_month</th>\n",
       "      <th>arrival_date_week_number</th>\n",
       "      <th>arrival_date_day_of_month</th>\n",
       "      <th>stays_in_weekend_nights</th>\n",
       "      <th>stays_in_week_nights</th>\n",
       "      <th>meal</th>\n",
       "      <th>reserved_room_type</th>\n",
       "      <th>assigned_room_type</th>\n",
       "      <th>agent</th>\n",
       "      <th>days_in_waiting_list</th>\n",
       "      <th>required_car_parking_spaces</th>\n",
       "      <th>total_of_special_requests</th>\n",
       "      <th>hotel_City Hotel</th>\n",
       "      <th>hotel_Resort Hotel</th>\n",
       "      <th>market_Aviation</th>\n",
       "      <th>market_Corporate</th>\n",
       "      <th>market_Direct</th>\n",
       "      <th>market_Groups</th>\n",
       "      <th>market_Offline TA/TO</th>\n",
       "      <th>market_Online TA</th>\n",
       "      <th>dist_Corporate</th>\n",
       "      <th>dist_Direct</th>\n",
       "      <th>dist_GDS</th>\n",
       "      <th>dist_TA/TO</th>\n",
       "      <th>customer_Contract</th>\n",
       "      <th>customer_Group</th>\n",
       "      <th>customer_Transient</th>\n",
       "      <th>customer_Transient-Party</th>\n",
       "      <th>region_Australia and New Zealand</th>\n",
       "      <th>region_Central Asia</th>\n",
       "      <th>region_Eastern Asia</th>\n",
       "      <th>region_Eastern Europe</th>\n",
       "      <th>region_Latin America and the Caribbean</th>\n",
       "      <th>region_Northern Africa</th>\n",
       "      <th>region_Northern America</th>\n",
       "      <th>region_Northern Europe</th>\n",
       "      <th>region_South-eastern Asia</th>\n",
       "      <th>region_Southern Asia</th>\n",
       "      <th>region_Southern Europe</th>\n",
       "      <th>region_Sub-Saharan Africa</th>\n",
       "      <th>region_Western Asia</th>\n",
       "      <th>region_Western Europe</th>\n",
       "    </tr>\n",
       "  </thead>\n",
       "  <tbody>\n",
       "    <tr>\n",
       "      <th>0</th>\n",
       "      <td>1</td>\n",
       "      <td>2016</td>\n",
       "      <td>3</td>\n",
       "      <td>13</td>\n",
       "      <td>25</td>\n",
       "      <td>0</td>\n",
       "      <td>1</td>\n",
       "      <td>2</td>\n",
       "      <td>1</td>\n",
       "      <td>1</td>\n",
       "      <td>12.0</td>\n",
       "      <td>0.0</td>\n",
       "      <td>0.0</td>\n",
       "      <td>0.0</td>\n",
       "      <td>1.0</td>\n",
       "      <td>0.0</td>\n",
       "      <td>0.0</td>\n",
       "      <td>0.0</td>\n",
       "      <td>0.0</td>\n",
       "      <td>0.0</td>\n",
       "      <td>1.0</td>\n",
       "      <td>0.0</td>\n",
       "      <td>0.0</td>\n",
       "      <td>0.0</td>\n",
       "      <td>0.0</td>\n",
       "      <td>1.0</td>\n",
       "      <td>0.0</td>\n",
       "      <td>0.0</td>\n",
       "      <td>1.0</td>\n",
       "      <td>0.0</td>\n",
       "      <td>0.0</td>\n",
       "      <td>0.0</td>\n",
       "      <td>0.0</td>\n",
       "      <td>0.0</td>\n",
       "      <td>0.0</td>\n",
       "      <td>0.0</td>\n",
       "      <td>0.0</td>\n",
       "      <td>0.0</td>\n",
       "      <td>0.0</td>\n",
       "      <td>0.0</td>\n",
       "      <td>1.0</td>\n",
       "      <td>0.0</td>\n",
       "      <td>0.0</td>\n",
       "      <td>0.0</td>\n",
       "    </tr>\n",
       "    <tr>\n",
       "      <th>1</th>\n",
       "      <td>0</td>\n",
       "      <td>2015</td>\n",
       "      <td>7</td>\n",
       "      <td>29</td>\n",
       "      <td>15</td>\n",
       "      <td>0</td>\n",
       "      <td>1</td>\n",
       "      <td>2</td>\n",
       "      <td>1</td>\n",
       "      <td>3</td>\n",
       "      <td>NaN</td>\n",
       "      <td>0.0</td>\n",
       "      <td>1.0</td>\n",
       "      <td>0.0</td>\n",
       "      <td>0.0</td>\n",
       "      <td>1.0</td>\n",
       "      <td>0.0</td>\n",
       "      <td>1.0</td>\n",
       "      <td>0.0</td>\n",
       "      <td>0.0</td>\n",
       "      <td>0.0</td>\n",
       "      <td>0.0</td>\n",
       "      <td>1.0</td>\n",
       "      <td>0.0</td>\n",
       "      <td>0.0</td>\n",
       "      <td>0.0</td>\n",
       "      <td>0.0</td>\n",
       "      <td>0.0</td>\n",
       "      <td>1.0</td>\n",
       "      <td>0.0</td>\n",
       "      <td>0.0</td>\n",
       "      <td>0.0</td>\n",
       "      <td>0.0</td>\n",
       "      <td>0.0</td>\n",
       "      <td>0.0</td>\n",
       "      <td>0.0</td>\n",
       "      <td>0.0</td>\n",
       "      <td>0.0</td>\n",
       "      <td>0.0</td>\n",
       "      <td>0.0</td>\n",
       "      <td>1.0</td>\n",
       "      <td>0.0</td>\n",
       "      <td>0.0</td>\n",
       "      <td>0.0</td>\n",
       "    </tr>\n",
       "    <tr>\n",
       "      <th>2</th>\n",
       "      <td>0</td>\n",
       "      <td>2016</td>\n",
       "      <td>12</td>\n",
       "      <td>53</td>\n",
       "      <td>31</td>\n",
       "      <td>1</td>\n",
       "      <td>1</td>\n",
       "      <td>2</td>\n",
       "      <td>5</td>\n",
       "      <td>5</td>\n",
       "      <td>NaN</td>\n",
       "      <td>0.0</td>\n",
       "      <td>0.0</td>\n",
       "      <td>4.0</td>\n",
       "      <td>1.0</td>\n",
       "      <td>0.0</td>\n",
       "      <td>0.0</td>\n",
       "      <td>0.0</td>\n",
       "      <td>1.0</td>\n",
       "      <td>0.0</td>\n",
       "      <td>0.0</td>\n",
       "      <td>0.0</td>\n",
       "      <td>0.0</td>\n",
       "      <td>1.0</td>\n",
       "      <td>0.0</td>\n",
       "      <td>0.0</td>\n",
       "      <td>0.0</td>\n",
       "      <td>0.0</td>\n",
       "      <td>0.0</td>\n",
       "      <td>1.0</td>\n",
       "      <td>0.0</td>\n",
       "      <td>0.0</td>\n",
       "      <td>0.0</td>\n",
       "      <td>0.0</td>\n",
       "      <td>0.0</td>\n",
       "      <td>0.0</td>\n",
       "      <td>0.0</td>\n",
       "      <td>0.0</td>\n",
       "      <td>0.0</td>\n",
       "      <td>0.0</td>\n",
       "      <td>1.0</td>\n",
       "      <td>0.0</td>\n",
       "      <td>0.0</td>\n",
       "      <td>0.0</td>\n",
       "    </tr>\n",
       "    <tr>\n",
       "      <th>3</th>\n",
       "      <td>1</td>\n",
       "      <td>2017</td>\n",
       "      <td>8</td>\n",
       "      <td>31</td>\n",
       "      <td>1</td>\n",
       "      <td>4</td>\n",
       "      <td>10</td>\n",
       "      <td>2</td>\n",
       "      <td>1</td>\n",
       "      <td>1</td>\n",
       "      <td>314.0</td>\n",
       "      <td>0.0</td>\n",
       "      <td>0.0</td>\n",
       "      <td>0.0</td>\n",
       "      <td>0.0</td>\n",
       "      <td>1.0</td>\n",
       "      <td>0.0</td>\n",
       "      <td>0.0</td>\n",
       "      <td>0.0</td>\n",
       "      <td>0.0</td>\n",
       "      <td>0.0</td>\n",
       "      <td>1.0</td>\n",
       "      <td>0.0</td>\n",
       "      <td>0.0</td>\n",
       "      <td>0.0</td>\n",
       "      <td>1.0</td>\n",
       "      <td>0.0</td>\n",
       "      <td>0.0</td>\n",
       "      <td>1.0</td>\n",
       "      <td>0.0</td>\n",
       "      <td>0.0</td>\n",
       "      <td>0.0</td>\n",
       "      <td>0.0</td>\n",
       "      <td>0.0</td>\n",
       "      <td>0.0</td>\n",
       "      <td>0.0</td>\n",
       "      <td>0.0</td>\n",
       "      <td>0.0</td>\n",
       "      <td>0.0</td>\n",
       "      <td>0.0</td>\n",
       "      <td>1.0</td>\n",
       "      <td>0.0</td>\n",
       "      <td>0.0</td>\n",
       "      <td>0.0</td>\n",
       "    </tr>\n",
       "    <tr>\n",
       "      <th>4</th>\n",
       "      <td>1</td>\n",
       "      <td>2017</td>\n",
       "      <td>8</td>\n",
       "      <td>33</td>\n",
       "      <td>13</td>\n",
       "      <td>2</td>\n",
       "      <td>4</td>\n",
       "      <td>4</td>\n",
       "      <td>8</td>\n",
       "      <td>8</td>\n",
       "      <td>250.0</td>\n",
       "      <td>0.0</td>\n",
       "      <td>0.0</td>\n",
       "      <td>0.0</td>\n",
       "      <td>0.0</td>\n",
       "      <td>1.0</td>\n",
       "      <td>0.0</td>\n",
       "      <td>0.0</td>\n",
       "      <td>1.0</td>\n",
       "      <td>0.0</td>\n",
       "      <td>0.0</td>\n",
       "      <td>0.0</td>\n",
       "      <td>0.0</td>\n",
       "      <td>1.0</td>\n",
       "      <td>0.0</td>\n",
       "      <td>0.0</td>\n",
       "      <td>0.0</td>\n",
       "      <td>0.0</td>\n",
       "      <td>1.0</td>\n",
       "      <td>0.0</td>\n",
       "      <td>0.0</td>\n",
       "      <td>0.0</td>\n",
       "      <td>0.0</td>\n",
       "      <td>0.0</td>\n",
       "      <td>0.0</td>\n",
       "      <td>0.0</td>\n",
       "      <td>0.0</td>\n",
       "      <td>0.0</td>\n",
       "      <td>0.0</td>\n",
       "      <td>0.0</td>\n",
       "      <td>1.0</td>\n",
       "      <td>0.0</td>\n",
       "      <td>0.0</td>\n",
       "      <td>0.0</td>\n",
       "    </tr>\n",
       "  </tbody>\n",
       "</table>\n",
       "</div>"
      ],
      "text/plain": [
       "   is_canceled  arrival_date_year  ...  region_Western Asia  region_Western Europe\n",
       "0            1               2016  ...                  0.0                    0.0\n",
       "1            0               2015  ...                  0.0                    0.0\n",
       "2            0               2016  ...                  0.0                    0.0\n",
       "3            1               2017  ...                  0.0                    0.0\n",
       "4            1               2017  ...                  0.0                    0.0\n",
       "\n",
       "[5 rows x 44 columns]"
      ]
     },
     "execution_count": 19,
     "metadata": {},
     "output_type": "execute_result"
    }
   ],
   "source": [
    "no_dist.head()"
   ]
  },
  {
   "cell_type": "code",
   "execution_count": null,
   "metadata": {
    "id": "ea754759"
   },
   "outputs": [],
   "source": [
    "# split data\n",
    "X, y = no_dist.iloc[:,1:], no_dist.iloc[:,0]\n",
    "total_data = len(X.index)\n",
    "split = round(total_data*0.8)\n",
    "X_train = X.iloc[:split, :]\n",
    "X_test = X.iloc[split:, :]\n",
    "y_train = y.iloc[:split]\n",
    "y_test = y.iloc[split:]"
   ]
  },
  {
   "cell_type": "code",
   "execution_count": null,
   "metadata": {
    "id": "db62bd91"
   },
   "outputs": [],
   "source": [
    "# Imputation (feature = agent)\n",
    "#https://machinelearningmastery.com/knn-imputation-for-missing-values-in-machine-learning/\n",
    "imputer = KNNImputer()\n",
    "imputer.fit(X_train)\n",
    "X_trans = imputer.transform(X_train)"
   ]
  },
  {
   "cell_type": "code",
   "execution_count": null,
   "metadata": {
    "colab": {
     "base_uri": "https://localhost:8080/"
    },
    "executionInfo": {
     "elapsed": 4660,
     "status": "ok",
     "timestamp": 1636561613885,
     "user": {
      "displayName": "SHANSHAN YANG",
      "photoUrl": "https://lh3.googleusercontent.com/a/default-user=s64",
      "userId": "14993090824837542937"
     },
     "user_tz": -60
    },
    "id": "af69f53c",
    "outputId": "ee7d1716-0c4f-4970-f1b4-e88cbd752765"
   },
   "outputs": [
    {
     "name": "stdout",
     "output_type": "stream",
     "text": [
      "missing: 0\n"
     ]
    }
   ],
   "source": [
    "print('missing: %d' % sum(np.isnan(X_trans).flatten()))"
   ]
  },
  {
   "cell_type": "code",
   "execution_count": null,
   "metadata": {
    "id": "8a11881a"
   },
   "outputs": [],
   "source": [
    "# Data Normalization\n",
    "# https://machinelearningmastery.com/data-preparation-without-data-leakage/\n",
    "scaler = MinMaxScaler()\n",
    "scaler.fit(X_trans)\n",
    "X_train = scaler.transform(X_trans)\n"
   ]
  },
  {
   "cell_type": "code",
   "execution_count": null,
   "metadata": {
    "id": "ca0cf85d"
   },
   "outputs": [],
   "source": [
    "dtrain = xgb.DMatrix(data=X_train, label=y_train, feature_names=X.columns.tolist())"
   ]
  },
  {
   "cell_type": "markdown",
   "metadata": {
    "id": "b53d1443"
   },
   "source": [
    "### Training "
   ]
  },
  {
   "cell_type": "code",
   "execution_count": null,
   "metadata": {
    "id": "c75ce202"
   },
   "outputs": [],
   "source": [
    "# Hyperparameters\n",
    "lr = [0.001, 0.1]\n",
    "depth = [20, 25]\n",
    "child_weight = [0, 1]\n",
    "sample_ratio = [0.4, 0.5, 0.6, 0.7]\n",
    "tree_ratio = [0.7, 0.8, 0.9]"
   ]
  },
  {
   "cell_type": "code",
   "execution_count": null,
   "metadata": {
    "colab": {
     "base_uri": "https://localhost:8080/"
    },
    "executionInfo": {
     "elapsed": 16185457,
     "status": "ok",
     "timestamp": 1636577976395,
     "user": {
      "displayName": "SHANSHAN YANG",
      "photoUrl": "https://lh3.googleusercontent.com/a/default-user=s64",
      "userId": "14993090824837542937"
     },
     "user_tz": -60
    },
    "id": "b5eef05d",
    "outputId": "361665b9-9731-4fce-f934-40e7c626c78a",
    "scrolled": true
   },
   "outputs": [],
   "source": [
    "results = []\n",
    "for l in lr:\n",
    "    for d in depth:\n",
    "        for w in child_weight:\n",
    "            for sample in sample_ratio:\n",
    "                for trees in tree_ratio:\n",
    "                    # hyperparameters\n",
    "                    params = {'eta':l, \n",
    "                              'max_depth': d, \n",
    "                              'min_child_weight': w,\n",
    "                              'subsample': sample,\n",
    "                              'colsample_bytree': trees,\n",
    "                              'scale_pos_weight': 2,\n",
    "                              'tree_method': 'gpu_hist'}\n",
    "                    print(params)\n",
    "                    # cross validation\n",
    "                    cv_hist = xgb.cv(params, \n",
    "                                  dtrain, \n",
    "                                  num_boost_round=1000, \n",
    "                                  nfold=10, \n",
    "                                  stratified=True, \n",
    "                                  metrics=['auc','error'], \n",
    "                                  early_stopping_rounds=5, \n",
    "                                  verbose_eval=5, \n",
    "                                  seed=42)\n",
    "                    # average result \n",
    "                    train_error = cv_hist.iloc[-1,2]\n",
    "                    train_auc = cv_hist.iloc[-1,0]\n",
    "                    test_error = cv_hist.iloc[-1,-2]\n",
    "                    test_auc = cv_hist.iloc[-1,4]\n",
    "                    results.append([[l, d, w, sample, trees], [train_error,test_error, train_auc, test_auc]])"
   ]
  },
  {
   "cell_type": "code",
   "execution_count": null,
   "metadata": {
    "colab": {
     "base_uri": "https://localhost:8080/"
    },
    "executionInfo": {
     "elapsed": 238,
     "status": "ok",
     "timestamp": 1636577990647,
     "user": {
      "displayName": "SHANSHAN YANG",
      "photoUrl": "https://lh3.googleusercontent.com/a/default-user=s64",
      "userId": "14993090824837542937"
     },
     "user_tz": -60
    },
    "id": "sFJPxoyCzgu2",
    "outputId": "ad0fb1cc-b24c-4485-efe0-b3f46e98f391"
   },
   "outputs": [],
   "source": [
    "result_np = np.array(results)\n",
    "result = pd.DataFrame(result_np, columns=['parameters', 'validation results'])\n",
    "result[['eta', 'max_depth', 'min_child_weight', 'subsample', 'colsample_bytree']] = result['parameters'].apply(pd.Series)\n",
    "result[['train_error', 'test_error', 'train_auc', 'test_auc']] = result['validation results'].apply(pd.Series)\n",
    "result.drop(columns=['parameters', 'validation results'], inplace=True)"
   ]
  },
  {
   "cell_type": "code",
   "execution_count": null,
   "metadata": {
    "colab": {
     "base_uri": "https://localhost:8080/"
    },
    "executionInfo": {
     "elapsed": 242,
     "status": "ok",
     "timestamp": 1636577998741,
     "user": {
      "displayName": "SHANSHAN YANG",
      "photoUrl": "https://lh3.googleusercontent.com/a/default-user=s64",
      "userId": "14993090824837542937"
     },
     "user_tz": -60
    },
    "id": "PyzgBjXH4cv6",
    "outputId": "15c5360e-7796-4f4f-e075-5013dbb103a1"
   },
   "outputs": [
    {
     "name": "stdout",
     "output_type": "stream",
     "text": [
      "[0.001, 25.0, 0.0, 0.6, 0.7]\n",
      "[0.0507003, 0.17582650000000002, 0.9909003000000001, 0.9043931000000001]\n"
     ]
    }
   ],
   "source": [
    "best_params = result.sort_values(['test_error']).iloc[0,:5]\n",
    "print(best_params.to_list())\n",
    "best_result = result.sort_values(['test_error']).iloc[0,5:]\n",
    "print(best_result.to_list())"
   ]
  },
  {
   "cell_type": "code",
   "execution_count": null,
   "metadata": {
    "colab": {
     "base_uri": "https://localhost:8080/"
    },
    "executionInfo": {
     "elapsed": 22673,
     "status": "ok",
     "timestamp": 1636578031188,
     "user": {
      "displayName": "SHANSHAN YANG",
      "photoUrl": "https://lh3.googleusercontent.com/a/default-user=s64",
      "userId": "14993090824837542937"
     },
     "user_tz": -60
    },
    "id": "2be32441",
    "outputId": "47ca6ec1-7691-4fef-c17a-86aa90a76a64",
    "scrolled": true
   },
   "outputs": [],
   "source": [
    "# {'eta': 0.01, 'max_depth': 25, 'min_child_weight': 0, 'subsample': 0.6, 'colsample_bytree': 0.7} reaches lowest test-error \n",
    "# gamma [0,1,3,5] has no effect on the model performance, therefore set as default\n",
    "\n",
    "# build final model\n",
    "# best_params\n",
    "params = {'eta':best_params[0], \n",
    "          'max_depth': int(best_params[1]), \n",
    "          'min_child_weight': best_params[2],\n",
    "          'subsample': best_params[3],\n",
    "          'colsample_bytree': best_params[4],\n",
    "          'scale_pos_weight': 2,\n",
    "          'tree_method': 'gpu_hist',\n",
    "          'eval_metric': ['auc', 'error'],\n",
    "          'seed':42}\n",
    "print(params)\n",
    "\n",
    "epochs = 100\n",
    "\n",
    "bst = xgb.train(params, \n",
    "                dtrain, \n",
    "                epochs, \n",
    "                [(dtrain, 'train')],\n",
    "                early_stopping_rounds=5, \n",
    "                verbose_eval=2)"
   ]
  },
  {
   "cell_type": "code",
   "execution_count": null,
   "metadata": {
    "id": "3a97c825"
   },
   "outputs": [],
   "source": [
    "X_test_trans = imputer.transform(X_test)\n",
    "X_test = scaler.transform(X_test_trans)\n",
    "dtest = xgb.DMatrix(data=X_test, label=y_test, feature_names=X.columns.tolist())"
   ]
  },
  {
   "cell_type": "code",
   "execution_count": null,
   "metadata": {
    "id": "9ba1e092"
   },
   "outputs": [],
   "source": [
    "y_train_preds = np.round(bst.predict(dtrain, ntree_limit=bst.best_ntree_limit))\n",
    "y_preds = np.round(bst.predict(dtest, ntree_limit=bst.best_ntree_limit))"
   ]
  },
  {
   "cell_type": "code",
   "execution_count": null,
   "metadata": {
    "colab": {
     "base_uri": "https://localhost:8080/"
    },
    "executionInfo": {
     "elapsed": 221,
     "status": "ok",
     "timestamp": 1636578050683,
     "user": {
      "displayName": "SHANSHAN YANG",
      "photoUrl": "https://lh3.googleusercontent.com/a/default-user=s64",
      "userId": "14993090824837542937"
     },
     "user_tz": -60
    },
    "id": "d47d8ec0",
    "outputId": "63cab8e6-9632-4a59-fa6e-3f675a798036"
   },
   "outputs": [
    {
     "name": "stdout",
     "output_type": "stream",
     "text": [
      "              precision    recall  f1-score   support\n",
      "\n",
      "not_canceled       0.98      0.93      0.95     29686\n",
      "    canceled       0.90      0.97      0.93     18714\n",
      "\n",
      "    accuracy                           0.95     48400\n",
      "   macro avg       0.94      0.95      0.94     48400\n",
      "weighted avg       0.95      0.95      0.95     48400\n",
      "\n",
      "              precision    recall  f1-score   support\n",
      "\n",
      "not_canceled       0.80      0.85      0.83      7301\n",
      "    canceled       0.75      0.68      0.71      4799\n",
      "\n",
      "    accuracy                           0.78     12100\n",
      "   macro avg       0.78      0.77      0.77     12100\n",
      "weighted avg       0.78      0.78      0.78     12100\n",
      "\n"
     ]
    }
   ],
   "source": [
    "print(classification_report(y_train,y_train_preds,target_names=['not_canceled', 'canceled']))\n",
    "print(classification_report(y_test,y_preds,target_names=['not_canceled', 'canceled']))"
   ]
  },
  {
   "cell_type": "code",
   "execution_count": null,
   "metadata": {
    "colab": {
     "base_uri": "https://localhost:8080/"
    },
    "executionInfo": {
     "elapsed": 247,
     "status": "ok",
     "timestamp": 1636578071146,
     "user": {
      "displayName": "SHANSHAN YANG",
      "photoUrl": "https://lh3.googleusercontent.com/a/default-user=s64",
      "userId": "14993090824837542937"
     },
     "user_tz": -60
    },
    "id": "fc86c4dc",
    "outputId": "49b715e8-4cef-4f06-acfd-b5bc7a1e25b5"
   },
   "outputs": [
    {
     "data": {
      "text/plain": [
       "0.7667036537054199"
      ]
     },
     "execution_count": 34,
     "metadata": {},
     "output_type": "execute_result"
    }
   ],
   "source": [
    "roc_auc_score(y_test, y_preds)"
   ]
  }
 ],
 "metadata": {
  "accelerator": "GPU",
  "colab": {
   "collapsed_sections": [],
   "machine_shape": "hm",
   "name": "model_no_distance.ipynb",
   "provenance": [
    {
     "file_id": "19sELdSe-e7ufg7uMaRwn8ukV0OBaFiNR",
     "timestamp": 1636558349858
    },
    {
     "file_id": "1KmSxX2sldBlE729uG74s9758u6aQjFHs",
     "timestamp": 1636539655617
    }
   ]
  },
  "kernelspec": {
   "display_name": "Python 3",
   "language": "python",
   "name": "python3"
  },
  "language_info": {
   "codemirror_mode": {
    "name": "ipython",
    "version": 3
   },
   "file_extension": ".py",
   "mimetype": "text/x-python",
   "name": "python",
   "nbconvert_exporter": "python",
   "pygments_lexer": "ipython3",
   "version": "3.7.7"
  }
 },
 "nbformat": 4,
 "nbformat_minor": 5
}
